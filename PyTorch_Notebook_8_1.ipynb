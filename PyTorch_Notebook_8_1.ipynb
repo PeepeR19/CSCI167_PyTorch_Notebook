{
  "cells": [
    {
      "cell_type": "markdown",
      "metadata": {
        "id": "view-in-github",
        "colab_type": "text"
      },
      "source": [
        "<a href=\"https://colab.research.google.com/github/PeepeR19/CSCI167_PyTorch_Notebook/blob/main/PyTorch_Notebook_8_1.ipynb\" target=\"_parent\"><img src=\"https://colab.research.google.com/assets/colab-badge.svg\" alt=\"Open In Colab\"/></a>"
      ]
    },
    {
      "cell_type": "markdown",
      "metadata": {
        "id": "L6chybAVFJW2"
      },
      "source": [
        "# **Notebook 8.1: MNIST_1D_Performance**\n",
        "\n",
        "This notebook runs a simple neural network on the MNIST1D dataset as in figure 8.2a. It uses code from https://github.com/greydanus/mnist1d to generate the data.\n",
        "\n",
        "Work through the cells below, running each cell in turn. In various places you will see the words \"TODO\". Follow the instructions at these places and make predictions about what is going to happen or write code to complete the functions.\n",
        "\n",
        "Contact me at udlbookmail@gmail.com if you find any mistakes or have any suggestions."
      ]
    },
    {
      "cell_type": "code",
      "execution_count": 1,
      "metadata": {
        "id": "ifVjS4cTOqKz",
        "colab": {
          "base_uri": "https://localhost:8080/"
        },
        "outputId": "8bb2243e-e507-4298-872e-c3dece8c8969"
      },
      "outputs": [
        {
          "output_type": "stream",
          "name": "stdout",
          "text": [
            "Collecting git+https://github.com/greydanus/mnist1d\n",
            "  Cloning https://github.com/greydanus/mnist1d to /tmp/pip-req-build-_6fbrj6p\n",
            "  Running command git clone --filter=blob:none --quiet https://github.com/greydanus/mnist1d /tmp/pip-req-build-_6fbrj6p\n",
            "  Resolved https://github.com/greydanus/mnist1d to commit 7878d96082abd200c546a07a4101fa90b30fdf7e\n",
            "  Installing build dependencies ... \u001b[?25l\u001b[?25hdone\n",
            "  Getting requirements to build wheel ... \u001b[?25l\u001b[?25hdone\n",
            "  Preparing metadata (pyproject.toml) ... \u001b[?25l\u001b[?25hdone\n",
            "Requirement already satisfied: requests in /usr/local/lib/python3.12/dist-packages (from mnist1d==0.0.2.post16) (2.32.4)\n",
            "Requirement already satisfied: numpy in /usr/local/lib/python3.12/dist-packages (from mnist1d==0.0.2.post16) (2.0.2)\n",
            "Requirement already satisfied: matplotlib in /usr/local/lib/python3.12/dist-packages (from mnist1d==0.0.2.post16) (3.10.0)\n",
            "Requirement already satisfied: scipy in /usr/local/lib/python3.12/dist-packages (from mnist1d==0.0.2.post16) (1.16.2)\n",
            "Requirement already satisfied: contourpy>=1.0.1 in /usr/local/lib/python3.12/dist-packages (from matplotlib->mnist1d==0.0.2.post16) (1.3.3)\n",
            "Requirement already satisfied: cycler>=0.10 in /usr/local/lib/python3.12/dist-packages (from matplotlib->mnist1d==0.0.2.post16) (0.12.1)\n",
            "Requirement already satisfied: fonttools>=4.22.0 in /usr/local/lib/python3.12/dist-packages (from matplotlib->mnist1d==0.0.2.post16) (4.60.1)\n",
            "Requirement already satisfied: kiwisolver>=1.3.1 in /usr/local/lib/python3.12/dist-packages (from matplotlib->mnist1d==0.0.2.post16) (1.4.9)\n",
            "Requirement already satisfied: packaging>=20.0 in /usr/local/lib/python3.12/dist-packages (from matplotlib->mnist1d==0.0.2.post16) (25.0)\n",
            "Requirement already satisfied: pillow>=8 in /usr/local/lib/python3.12/dist-packages (from matplotlib->mnist1d==0.0.2.post16) (11.3.0)\n",
            "Requirement already satisfied: pyparsing>=2.3.1 in /usr/local/lib/python3.12/dist-packages (from matplotlib->mnist1d==0.0.2.post16) (3.2.5)\n",
            "Requirement already satisfied: python-dateutil>=2.7 in /usr/local/lib/python3.12/dist-packages (from matplotlib->mnist1d==0.0.2.post16) (2.9.0.post0)\n",
            "Requirement already satisfied: charset_normalizer<4,>=2 in /usr/local/lib/python3.12/dist-packages (from requests->mnist1d==0.0.2.post16) (3.4.3)\n",
            "Requirement already satisfied: idna<4,>=2.5 in /usr/local/lib/python3.12/dist-packages (from requests->mnist1d==0.0.2.post16) (3.10)\n",
            "Requirement already satisfied: urllib3<3,>=1.21.1 in /usr/local/lib/python3.12/dist-packages (from requests->mnist1d==0.0.2.post16) (2.5.0)\n",
            "Requirement already satisfied: certifi>=2017.4.17 in /usr/local/lib/python3.12/dist-packages (from requests->mnist1d==0.0.2.post16) (2025.10.5)\n",
            "Requirement already satisfied: six>=1.5 in /usr/local/lib/python3.12/dist-packages (from python-dateutil>=2.7->matplotlib->mnist1d==0.0.2.post16) (1.17.0)\n",
            "Building wheels for collected packages: mnist1d\n",
            "  Building wheel for mnist1d (pyproject.toml) ... \u001b[?25l\u001b[?25hdone\n",
            "  Created wheel for mnist1d: filename=mnist1d-0.0.2.post16-py3-none-any.whl size=14665 sha256=76e46c7781de4f7150764025c8cfce5e9f66849f48773d477a5e9b5efcd5db1f\n",
            "  Stored in directory: /tmp/pip-ephem-wheel-cache-lx1h54_g/wheels/18/40/b6/29381fee9b4c80fdbc304d52bb065a7286bbcca5ca2b8737c0\n",
            "Successfully built mnist1d\n",
            "Installing collected packages: mnist1d\n",
            "Successfully installed mnist1d-0.0.2.post16\n"
          ]
        }
      ],
      "source": [
        "# Run this if you're in a Colab to install MNIST 1D repository\n",
        "%pip install git+https://github.com/greydanus/mnist1d"
      ]
    },
    {
      "cell_type": "code",
      "execution_count": 2,
      "metadata": {
        "id": "qyE7G1StPIqO"
      },
      "outputs": [],
      "source": [
        "import torch, torch.nn as nn\n",
        "from torch.utils.data import TensorDataset, DataLoader\n",
        "from torch.optim.lr_scheduler import StepLR\n",
        "import numpy as np\n",
        "import matplotlib.pyplot as plt\n",
        "import mnist1d"
      ]
    },
    {
      "cell_type": "markdown",
      "metadata": {
        "id": "F7LNq72SP6jO"
      },
      "source": [
        "Let's generate a training and test dataset using the MNIST1D code.  The dataset gets saved as a .pkl file so it doesn't have to be regenerated each time."
      ]
    },
    {
      "cell_type": "code",
      "execution_count": 3,
      "metadata": {
        "id": "YLxf7dJfPaqw",
        "colab": {
          "base_uri": "https://localhost:8080/"
        },
        "outputId": "fcd1f561-17a0-422f-a8a3-b3ba8276f5cf"
      },
      "outputs": [
        {
          "output_type": "stream",
          "name": "stdout",
          "text": [
            "Did or could not load data from ./mnist1d_data.pkl. Rebuilding dataset...\n",
            "Examples in training set: 4000\n",
            "Examples in test set: 1000\n",
            "Length of each example: 40\n"
          ]
        }
      ],
      "source": [
        "args = mnist1d.data.get_dataset_args()\n",
        "data = mnist1d.data.get_dataset(args, path='./mnist1d_data.pkl', download=False, regenerate=False)\n",
        "\n",
        "# The training and test input and outputs are in\n",
        "# data['x'], data['y'], data['x_test'], and data['y_test']\n",
        "print(\"Examples in training set: {}\".format(len(data['y'])))\n",
        "print(\"Examples in test set: {}\".format(len(data['y_test'])))\n",
        "print(\"Length of each example: {}\".format(data['x'].shape[-1]))"
      ]
    },
    {
      "cell_type": "code",
      "execution_count": 96,
      "metadata": {
        "id": "FxaB5vc0uevl",
        "colab": {
          "base_uri": "https://localhost:8080/"
        },
        "outputId": "e9478b01-b63e-4f7d-d0ce-1a300f64ebeb"
      },
      "outputs": [
        {
          "output_type": "execute_result",
          "data": {
            "text/plain": [
              "Sequential(\n",
              "  (0): Linear(in_features=40, out_features=90, bias=True)\n",
              "  (1): ReLU()\n",
              "  (2): Linear(in_features=90, out_features=90, bias=True)\n",
              "  (3): ReLU()\n",
              "  (4): Linear(in_features=90, out_features=30, bias=True)\n",
              ")"
            ]
          },
          "metadata": {},
          "execution_count": 96
        }
      ],
      "source": [
        "D_i = 40    # Input dimensions\n",
        "D_k = 90   # Hidden dimensions\n",
        "D_o = 30    # Output dimensions\n",
        "# TODO:\n",
        "# Define a model with two hidden layers of size 100\n",
        "# And ReLU activations between them\n",
        "# Replace this line (see Figure 7.8 of book for help):\n",
        "model = nn.Sequential(nn.Linear(D_i, D_k), nn.ReLU(),\n",
        "                      nn.Linear(D_k, D_k), nn.ReLU(),\n",
        "                      nn.Linear(D_k, D_o))\n",
        "\n",
        "\n",
        "def weights_init(layer_in):\n",
        "  # TODO:\n",
        "  # Initialize the parameters with He initialization\n",
        "  # Replace this line (see figure 7.8 of book for help)\n",
        "  if isinstance(layer_in, nn.Linear):\n",
        "    nn.init.kaiming_normal_(layer_in.weight)\n",
        "    layer_in.bias.data.fill_(0.0)\n",
        "\n",
        "\n",
        "\n",
        "# Call the function you just defined\n",
        "model.apply(weights_init)\n"
      ]
    },
    {
      "cell_type": "code",
      "execution_count": 97,
      "metadata": {
        "id": "_rX6N3VyyQTY",
        "colab": {
          "base_uri": "https://localhost:8080/"
        },
        "outputId": "369f0f2b-32cf-4479-8597-40bd5f6849ff"
      },
      "outputs": [
        {
          "output_type": "stream",
          "name": "stdout",
          "text": [
            "Epoch     0, train loss 4.253928, train error 90.00,  test loss 4.313055, test error 89.80\n",
            "Epoch     1, train loss 2.490530, train error 90.15,  test loss 2.489529, test error 89.40\n",
            "Epoch     2, train loss 2.363161, train error 90.05,  test loss 2.362461, test error 89.80\n",
            "Epoch     3, train loss 2.338428, train error 90.05,  test loss 2.336647, test error 89.80\n",
            "Epoch     4, train loss 2.330960, train error 89.95,  test loss 2.333190, test error 90.20\n",
            "Epoch     5, train loss 2.326123, train error 89.97,  test loss 2.325552, test error 90.10\n",
            "Epoch     6, train loss 2.328594, train error 89.72,  test loss 2.331987, test error 91.10\n",
            "Epoch     7, train loss 2.319693, train error 89.72,  test loss 2.322333, test error 91.10\n",
            "Epoch     8, train loss 2.318412, train error 89.90,  test loss 2.322439, test error 90.40\n",
            "Epoch     9, train loss 2.314480, train error 90.15,  test loss 2.314807, test error 89.40\n",
            "Epoch    10, train loss 2.313273, train error 89.72,  test loss 2.313956, test error 91.10\n",
            "Epoch    11, train loss 2.312769, train error 89.72,  test loss 2.313414, test error 91.10\n",
            "Epoch    12, train loss 2.312583, train error 89.72,  test loss 2.313322, test error 91.10\n",
            "Epoch    13, train loss 2.312473, train error 89.72,  test loss 2.313245, test error 91.10\n",
            "Epoch    14, train loss 2.312357, train error 89.72,  test loss 2.313202, test error 91.10\n",
            "Epoch    15, train loss 2.312253, train error 89.72,  test loss 2.313113, test error 91.10\n",
            "Epoch    16, train loss 2.312153, train error 89.72,  test loss 2.312808, test error 91.10\n",
            "Epoch    17, train loss 2.312056, train error 89.72,  test loss 2.312684, test error 91.10\n",
            "Epoch    18, train loss 2.311966, train error 89.72,  test loss 2.312504, test error 91.10\n",
            "Epoch    19, train loss 2.311868, train error 89.72,  test loss 2.312581, test error 91.10\n",
            "Epoch    20, train loss 2.311856, train error 89.72,  test loss 2.312560, test error 91.10\n",
            "Epoch    21, train loss 2.311846, train error 89.72,  test loss 2.312563, test error 91.10\n",
            "Epoch    22, train loss 2.311834, train error 89.72,  test loss 2.312571, test error 91.10\n",
            "Epoch    23, train loss 2.311826, train error 89.72,  test loss 2.312549, test error 91.10\n",
            "Epoch    24, train loss 2.311815, train error 89.72,  test loss 2.312548, test error 91.10\n",
            "Epoch    25, train loss 2.311806, train error 89.72,  test loss 2.312548, test error 91.10\n",
            "Epoch    26, train loss 2.311795, train error 89.72,  test loss 2.312516, test error 91.10\n",
            "Epoch    27, train loss 2.311785, train error 89.72,  test loss 2.312509, test error 91.10\n",
            "Epoch    28, train loss 2.311776, train error 89.72,  test loss 2.312511, test error 91.10\n",
            "Epoch    29, train loss 2.311767, train error 89.72,  test loss 2.312491, test error 91.10\n",
            "Epoch    30, train loss 2.311766, train error 89.72,  test loss 2.312492, test error 91.10\n",
            "Epoch    31, train loss 2.311765, train error 89.72,  test loss 2.312490, test error 91.10\n",
            "Epoch    32, train loss 2.311764, train error 89.72,  test loss 2.312492, test error 91.10\n",
            "Epoch    33, train loss 2.311763, train error 89.72,  test loss 2.312492, test error 91.10\n",
            "Epoch    34, train loss 2.311762, train error 89.72,  test loss 2.312490, test error 91.10\n",
            "Epoch    35, train loss 2.311761, train error 89.72,  test loss 2.312488, test error 91.10\n",
            "Epoch    36, train loss 2.311760, train error 89.72,  test loss 2.312487, test error 91.10\n",
            "Epoch    37, train loss 2.311759, train error 89.72,  test loss 2.312487, test error 91.10\n",
            "Epoch    38, train loss 2.311758, train error 89.72,  test loss 2.312484, test error 91.10\n",
            "Epoch    39, train loss 2.311757, train error 89.72,  test loss 2.312484, test error 91.10\n",
            "Epoch    40, train loss 2.311757, train error 89.72,  test loss 2.312483, test error 91.10\n",
            "Epoch    41, train loss 2.311757, train error 89.72,  test loss 2.312484, test error 91.10\n",
            "Epoch    42, train loss 2.311757, train error 89.72,  test loss 2.312483, test error 91.10\n",
            "Epoch    43, train loss 2.311757, train error 89.72,  test loss 2.312483, test error 91.10\n",
            "Epoch    44, train loss 2.311757, train error 89.72,  test loss 2.312483, test error 91.10\n",
            "Epoch    45, train loss 2.311757, train error 89.72,  test loss 2.312483, test error 91.10\n",
            "Epoch    46, train loss 2.311757, train error 89.72,  test loss 2.312483, test error 91.10\n",
            "Epoch    47, train loss 2.311757, train error 89.72,  test loss 2.312483, test error 91.10\n",
            "Epoch    48, train loss 2.311756, train error 89.72,  test loss 2.312483, test error 91.10\n",
            "Epoch    49, train loss 2.311756, train error 89.72,  test loss 2.312483, test error 91.10\n"
          ]
        }
      ],
      "source": [
        "# choose cross entropy loss function (equation 5.24)\n",
        "loss_function = torch.nn.CrossEntropyLoss()\n",
        "# construct SGD optimizer and initialize learning rate and momentum\n",
        "optimizer = torch.optim.SGD(model.parameters(), lr = 4.5, momentum=0.5)\n",
        "# object that decreases learning rate by half every 10 epochs\n",
        "scheduler = StepLR(optimizer, step_size=10, gamma=0.1)\n",
        "x_train = torch.tensor(data['x'].astype('float32'))\n",
        "y_train = torch.tensor(data['y'].transpose().astype('int64'))\n",
        "x_test= torch.tensor(data['x_test'].astype('float32'))\n",
        "y_test = torch.tensor(data['y_test'].astype('int64'))\n",
        "\n",
        "# load the data into a class that creates the batches\n",
        "data_loader = DataLoader(TensorDataset(x_train,y_train), batch_size=500, shuffle=True, worker_init_fn=np.random.seed(1))\n",
        "\n",
        "# Initialize model weights\n",
        "model.apply(weights_init)\n",
        "\n",
        "# loop over the dataset n_epoch times\n",
        "n_epoch = 50\n",
        "# store the loss and the % correct at each epoch\n",
        "losses_train = np.zeros((n_epoch))\n",
        "errors_train = np.zeros((n_epoch))\n",
        "losses_test = np.zeros((n_epoch))\n",
        "errors_test = np.zeros((n_epoch))\n",
        "\n",
        "for epoch in range(n_epoch):\n",
        "  # loop over batches\n",
        "  for i, batch in enumerate(data_loader):\n",
        "    # retrieve inputs and labels for this batch\n",
        "    x_batch, y_batch = batch\n",
        "    # zero the parameter gradients\n",
        "    optimizer.zero_grad()\n",
        "    # forward pass -- calculate model output\n",
        "    pred = model(x_batch)\n",
        "    # compute the loss\n",
        "    loss = loss_function(pred, y_batch)\n",
        "    # backward pass\n",
        "    loss.backward()\n",
        "    # SGD update\n",
        "    optimizer.step()\n",
        "\n",
        "  # Run whole dataset to get statistics -- normally wouldn't do this\n",
        "  pred_train = model(x_train)\n",
        "  pred_test = model(x_test)\n",
        "  _, predicted_train_class = torch.max(pred_train.data, 1)\n",
        "  _, predicted_test_class = torch.max(pred_test.data, 1)\n",
        "  errors_train[epoch] = 100 - 100 * (predicted_train_class == y_train).float().sum() / len(y_train)\n",
        "  errors_test[epoch]= 100 - 100 * (predicted_test_class == y_test).float().sum() / len(y_test)\n",
        "  losses_train[epoch] = loss_function(pred_train, y_train).item()\n",
        "  losses_test[epoch]= loss_function(pred_test, y_test).item()\n",
        "  print(f'Epoch {epoch:5d}, train loss {losses_train[epoch]:.6f}, train error {errors_train[epoch]:3.2f},  test loss {losses_test[epoch]:.6f}, test error {errors_test[epoch]:3.2f}')\n",
        "\n",
        "  # tell scheduler to consider updating learning rate\n",
        "  scheduler.step()"
      ]
    },
    {
      "cell_type": "code",
      "execution_count": 98,
      "metadata": {
        "id": "yI-l6kA_EH9G",
        "colab": {
          "base_uri": "https://localhost:8080/",
          "height": 927
        },
        "outputId": "60436b27-b910-4318-c228-6d53dac1bc40"
      },
      "outputs": [
        {
          "output_type": "display_data",
          "data": {
            "text/plain": [
              "<Figure size 640x480 with 1 Axes>"
            ],
            "image/png": "[encoded data removed]"
          },
          "metadata": {}
        },
        {
          "output_type": "display_data",
          "data": {
            "text/plain": [
              "<Figure size 640x480 with 1 Axes>"
            ],
            "image/png": "[encoded data removed]"
          },
          "metadata": {}
        }
      ],
      "source": [
        "# Plot the results\n",
        "fig, ax = plt.subplots()\n",
        "ax.plot(errors_train,'r-',label='train')\n",
        "ax.plot(errors_test,'b-',label='test')\n",
        "ax.set_ylim(0,100); ax.set_xlim(0,n_epoch)\n",
        "ax.set_xlabel('Epoch'); ax.set_ylabel('Error')\n",
        "ax.set_title('TrainError %3.2f, Test Error %3.2f'%(errors_train[-1],errors_test[-1]))\n",
        "ax.legend()\n",
        "plt.show()\n",
        "\n",
        "# Plot the results\n",
        "fig, ax = plt.subplots()\n",
        "ax.plot(losses_train,'r-',label='train')\n",
        "ax.plot(losses_test,'b-',label='test')\n",
        "ax.set_xlim(0,n_epoch)\n",
        "ax.set_xlabel('Epoch'); ax.set_ylabel('Loss')\n",
        "ax.set_title('Train loss %3.2f, Test loss %3.2f'%(losses_train[-1],losses_test[-1]))\n",
        "ax.legend()\n",
        "plt.show()"
      ]
    },
    {
      "cell_type": "markdown",
      "metadata": {
        "id": "q-yT6re6GZS4"
      },
      "source": [
        "**TODO**\n",
        "\n",
        "Play with the model -- try changing the number of layers, hidden units, learning rate, batch size, momentum or anything else you like.  See if you can improve the test results.\n",
        "\n",
        "Is it a good idea to optimize the hyperparameters in this way?  Will the final result be a good estimate of the true test performance?\n",
        "\n",
        "I do not think this is a good way of optimizing the hyperparameters. The reason I believe that is because there are too many variables that can change and each one changes the outcome. I do not know if it would result to a good test result but from my attempts, the loss gets pretty high."
      ]
    }
  ],
  "metadata": {
    "accelerator": "GPU",
    "colab": {
      "gpuType": "T4",
      "provenance": [],
      "include_colab_link": true
    },
    "kernelspec": {
      "display_name": "Python 3",
      "name": "python3"
    },
    "language_info": {
      "name": "python"
    }
  },
  "nbformat": 4,
  "nbformat_minor": 0
}